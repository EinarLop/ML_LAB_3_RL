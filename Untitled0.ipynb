{
  "nbformat": 4,
  "nbformat_minor": 0,
  "metadata": {
    "colab": {
      "provenance": [],
      "authorship_tag": "ABX9TyMBBpZE7wjTBsCyYbR/r307",
      "include_colab_link": true
    },
    "kernelspec": {
      "name": "python3",
      "display_name": "Python 3"
    },
    "language_info": {
      "name": "python"
    }
  },
  "cells": [
    {
      "cell_type": "markdown",
      "metadata": {
        "id": "view-in-github",
        "colab_type": "text"
      },
      "source": [
        "<a href=\"https://colab.research.google.com/github/EinarLop/ML_LAB_3_RL/blob/main/Untitled0.ipynb\" target=\"_parent\"><img src=\"https://colab.research.google.com/assets/colab-badge.svg\" alt=\"Open In Colab\"/></a>"
      ]
    },
    {
      "cell_type": "code",
      "execution_count": null,
      "metadata": {
        "colab": {
          "base_uri": "https://localhost:8080/"
        },
        "id": "SEL3IA72ZUMQ",
        "outputId": "dc3f04cb-5567-4758-edc6-39065e9ee14a"
      },
      "outputs": [
        {
          "output_type": "stream",
          "name": "stdout",
          "text": [
            "Requirement already satisfied: stable-baselines3 in /usr/local/lib/python3.11/dist-packages (2.6.0)\n",
            "Requirement already satisfied: gymnasium in /usr/local/lib/python3.11/dist-packages (1.1.1)\n",
            "Requirement already satisfied: gym-anytrading in /usr/local/lib/python3.11/dist-packages (2.0.0)\n",
            "Requirement already satisfied: yfinance in /usr/local/lib/python3.11/dist-packages (0.2.55)\n",
            "Collecting shimmy\n",
            "  Downloading Shimmy-2.0.0-py3-none-any.whl.metadata (3.5 kB)\n",
            "Requirement already satisfied: numpy<3.0,>=1.20 in /usr/local/lib/python3.11/dist-packages (from stable-baselines3) (2.0.2)\n",
            "Requirement already satisfied: torch<3.0,>=2.3 in /usr/local/lib/python3.11/dist-packages (from stable-baselines3) (2.6.0+cu124)\n",
            "Requirement already satisfied: cloudpickle in /usr/local/lib/python3.11/dist-packages (from stable-baselines3) (3.1.1)\n",
            "Requirement already satisfied: pandas in /usr/local/lib/python3.11/dist-packages (from stable-baselines3) (2.2.2)\n",
            "Requirement already satisfied: matplotlib in /usr/local/lib/python3.11/dist-packages (from stable-baselines3) (3.10.0)\n",
            "Requirement already satisfied: typing-extensions>=4.3.0 in /usr/local/lib/python3.11/dist-packages (from gymnasium) (4.13.0)\n",
            "Requirement already satisfied: farama-notifications>=0.0.1 in /usr/local/lib/python3.11/dist-packages (from gymnasium) (0.0.4)\n",
            "Requirement already satisfied: requests>=2.31 in /usr/local/lib/python3.11/dist-packages (from yfinance) (2.32.3)\n",
            "Requirement already satisfied: multitasking>=0.0.7 in /usr/local/lib/python3.11/dist-packages (from yfinance) (0.0.11)\n",
            "Requirement already satisfied: platformdirs>=2.0.0 in /usr/local/lib/python3.11/dist-packages (from yfinance) (4.3.7)\n",
            "Requirement already satisfied: pytz>=2022.5 in /usr/local/lib/python3.11/dist-packages (from yfinance) (2025.2)\n",
            "Requirement already satisfied: frozendict>=2.3.4 in /usr/local/lib/python3.11/dist-packages (from yfinance) (2.4.6)\n",
            "Requirement already satisfied: peewee>=3.16.2 in /usr/local/lib/python3.11/dist-packages (from yfinance) (3.17.9)\n",
            "Requirement already satisfied: beautifulsoup4>=4.11.1 in /usr/local/lib/python3.11/dist-packages (from yfinance) (4.13.3)\n",
            "Requirement already satisfied: soupsieve>1.2 in /usr/local/lib/python3.11/dist-packages (from beautifulsoup4>=4.11.1->yfinance) (2.6)\n",
            "Requirement already satisfied: contourpy>=1.0.1 in /usr/local/lib/python3.11/dist-packages (from matplotlib->stable-baselines3) (1.3.1)\n",
            "Requirement already satisfied: cycler>=0.10 in /usr/local/lib/python3.11/dist-packages (from matplotlib->stable-baselines3) (0.12.1)\n",
            "Requirement already satisfied: fonttools>=4.22.0 in /usr/local/lib/python3.11/dist-packages (from matplotlib->stable-baselines3) (4.56.0)\n",
            "Requirement already satisfied: kiwisolver>=1.3.1 in /usr/local/lib/python3.11/dist-packages (from matplotlib->stable-baselines3) (1.4.8)\n",
            "Requirement already satisfied: packaging>=20.0 in /usr/local/lib/python3.11/dist-packages (from matplotlib->stable-baselines3) (24.2)\n",
            "Requirement already satisfied: pillow>=8 in /usr/local/lib/python3.11/dist-packages (from matplotlib->stable-baselines3) (11.1.0)\n",
            "Requirement already satisfied: pyparsing>=2.3.1 in /usr/local/lib/python3.11/dist-packages (from matplotlib->stable-baselines3) (3.2.3)\n",
            "Requirement already satisfied: python-dateutil>=2.7 in /usr/local/lib/python3.11/dist-packages (from matplotlib->stable-baselines3) (2.8.2)\n",
            "Requirement already satisfied: tzdata>=2022.7 in /usr/local/lib/python3.11/dist-packages (from pandas->stable-baselines3) (2025.2)\n",
            "Requirement already satisfied: charset-normalizer<4,>=2 in /usr/local/lib/python3.11/dist-packages (from requests>=2.31->yfinance) (3.4.1)\n",
            "Requirement already satisfied: idna<4,>=2.5 in /usr/local/lib/python3.11/dist-packages (from requests>=2.31->yfinance) (3.10)\n",
            "Requirement already satisfied: urllib3<3,>=1.21.1 in /usr/local/lib/python3.11/dist-packages (from requests>=2.31->yfinance) (2.3.0)\n",
            "Requirement already satisfied: certifi>=2017.4.17 in /usr/local/lib/python3.11/dist-packages (from requests>=2.31->yfinance) (2025.1.31)\n",
            "Requirement already satisfied: filelock in /usr/local/lib/python3.11/dist-packages (from torch<3.0,>=2.3->stable-baselines3) (3.18.0)\n",
            "Requirement already satisfied: networkx in /usr/local/lib/python3.11/dist-packages (from torch<3.0,>=2.3->stable-baselines3) (3.4.2)\n",
            "Requirement already satisfied: jinja2 in /usr/local/lib/python3.11/dist-packages (from torch<3.0,>=2.3->stable-baselines3) (3.1.6)\n",
            "Requirement already satisfied: fsspec in /usr/local/lib/python3.11/dist-packages (from torch<3.0,>=2.3->stable-baselines3) (2025.3.0)\n",
            "Requirement already satisfied: nvidia-cuda-nvrtc-cu12==12.4.127 in /usr/local/lib/python3.11/dist-packages (from torch<3.0,>=2.3->stable-baselines3) (12.4.127)\n",
            "Requirement already satisfied: nvidia-cuda-runtime-cu12==12.4.127 in /usr/local/lib/python3.11/dist-packages (from torch<3.0,>=2.3->stable-baselines3) (12.4.127)\n",
            "Requirement already satisfied: nvidia-cuda-cupti-cu12==12.4.127 in /usr/local/lib/python3.11/dist-packages (from torch<3.0,>=2.3->stable-baselines3) (12.4.127)\n",
            "Requirement already satisfied: nvidia-cudnn-cu12==9.1.0.70 in /usr/local/lib/python3.11/dist-packages (from torch<3.0,>=2.3->stable-baselines3) (9.1.0.70)\n",
            "Requirement already satisfied: nvidia-cublas-cu12==12.4.5.8 in /usr/local/lib/python3.11/dist-packages (from torch<3.0,>=2.3->stable-baselines3) (12.4.5.8)\n",
            "Requirement already satisfied: nvidia-cufft-cu12==11.2.1.3 in /usr/local/lib/python3.11/dist-packages (from torch<3.0,>=2.3->stable-baselines3) (11.2.1.3)\n",
            "Requirement already satisfied: nvidia-curand-cu12==10.3.5.147 in /usr/local/lib/python3.11/dist-packages (from torch<3.0,>=2.3->stable-baselines3) (10.3.5.147)\n",
            "Requirement already satisfied: nvidia-cusolver-cu12==11.6.1.9 in /usr/local/lib/python3.11/dist-packages (from torch<3.0,>=2.3->stable-baselines3) (11.6.1.9)\n",
            "Requirement already satisfied: nvidia-cusparse-cu12==12.3.1.170 in /usr/local/lib/python3.11/dist-packages (from torch<3.0,>=2.3->stable-baselines3) (12.3.1.170)\n",
            "Requirement already satisfied: nvidia-cusparselt-cu12==0.6.2 in /usr/local/lib/python3.11/dist-packages (from torch<3.0,>=2.3->stable-baselines3) (0.6.2)\n",
            "Requirement already satisfied: nvidia-nccl-cu12==2.21.5 in /usr/local/lib/python3.11/dist-packages (from torch<3.0,>=2.3->stable-baselines3) (2.21.5)\n",
            "Requirement already satisfied: nvidia-nvtx-cu12==12.4.127 in /usr/local/lib/python3.11/dist-packages (from torch<3.0,>=2.3->stable-baselines3) (12.4.127)\n",
            "Requirement already satisfied: nvidia-nvjitlink-cu12==12.4.127 in /usr/local/lib/python3.11/dist-packages (from torch<3.0,>=2.3->stable-baselines3) (12.4.127)\n",
            "Requirement already satisfied: triton==3.2.0 in /usr/local/lib/python3.11/dist-packages (from torch<3.0,>=2.3->stable-baselines3) (3.2.0)\n",
            "Requirement already satisfied: sympy==1.13.1 in /usr/local/lib/python3.11/dist-packages (from torch<3.0,>=2.3->stable-baselines3) (1.13.1)\n",
            "Requirement already satisfied: mpmath<1.4,>=1.1.0 in /usr/local/lib/python3.11/dist-packages (from sympy==1.13.1->torch<3.0,>=2.3->stable-baselines3) (1.3.0)\n",
            "Requirement already satisfied: six>=1.5 in /usr/local/lib/python3.11/dist-packages (from python-dateutil>=2.7->matplotlib->stable-baselines3) (1.17.0)\n",
            "Requirement already satisfied: MarkupSafe>=2.0 in /usr/local/lib/python3.11/dist-packages (from jinja2->torch<3.0,>=2.3->stable-baselines3) (3.0.2)\n",
            "Downloading Shimmy-2.0.0-py3-none-any.whl (30 kB)\n",
            "Installing collected packages: shimmy\n",
            "Successfully installed shimmy-2.0.0\n"
          ]
        }
      ],
      "source": [
        "!pip install stable-baselines3 gymnasium gym-anytrading yfinance shimmy"
      ]
    },
    {
      "cell_type": "code",
      "source": [
        "import matplotlib.pyplot as plt\n",
        "import gym\n",
        "import gym_anytrading\n",
        "import yfinance as yf\n",
        "from gym import spaces\n",
        "import numpy as np\n",
        "import pandas as pd"
      ],
      "metadata": {
        "id": "TZGlE9kodG98"
      },
      "execution_count": null,
      "outputs": []
    },
    {
      "cell_type": "code",
      "source": [
        "\n",
        "\n",
        "# Download stock data for Apple (AAPL)\n",
        "df = yf.download('AAPL', start='2010-01-01', end='2022-01-31')  # Example with 19 rows\n",
        "df = df[['Open', 'High', 'Low', 'Close', 'Volume']]  # Ensure only relevant columns\n",
        "df = df.fillna(method='ffill')  # Handle missing values\n",
        "\n",
        "# Define the action and observation spaces explicitly\n",
        "class CustomStocksEnv(gym.Env):\n",
        "    def __init__(self, df, window_size=10, frame_bound=(10, 200)):\n",
        "        super(CustomStocksEnv, self).__init__()\n",
        "        self.df = df\n",
        "        self.window_size = window_size\n",
        "        self.frame_bound = frame_bound\n",
        "\n",
        "        # Action space: Discrete (buy, hold, sell)\n",
        "        self.action_space = spaces.Discrete(3)  # 3 actions: buy, hold, sell\n",
        "\n",
        "        # Observation space: We use the window size to define the observation space\n",
        "        self.observation_space = spaces.Box(low=0, high=np.inf, shape=(window_size, df.shape[1]), dtype=np.float32)\n",
        "\n",
        "    def reset(self):\n",
        "        self.current_step = self.frame_bound[0]\n",
        "        self.done = False\n",
        "        return self.get_observation()\n",
        "\n",
        "    def get_observation(self):\n",
        "        return np.array(self.df.iloc[self.current_step-self.window_size:self.current_step].values)\n",
        "\n",
        "    def step(self, action):\n",
        "        self.current_step += 1\n",
        "        if self.current_step >= self.frame_bound[1]:\n",
        "            self.done = True\n",
        "        else:\n",
        "            self.done = False\n",
        "\n",
        "        # Return a dummy reward for now\n",
        "        reward = 0\n",
        "        return self.get_observation(), reward, self.done, {}\n",
        "\n",
        "    def _current_price(self):\n",
        "        \"\"\"Returns the stock price at the current step.\"\"\"\n",
        "        return self.df.iloc[self.current_step][\"Close\"]\n",
        "\n",
        "# Manually register the environment\n",
        "gym.envs.registration.register(\n",
        "    id=\"stocks-v0\",\n",
        "    entry_point=\"__main__:CustomStocksEnv\",\n",
        "    kwargs={\"df\": df, \"window_size\": 10, \"frame_bound\": (10, 19)},\n",
        ")\n",
        "\n",
        "# Create the environment\n",
        "env = gym.make('stocks-v0')\n",
        "\n",
        "# Check environment info\n",
        "print(env)\n"
      ],
      "metadata": {
        "colab": {
          "base_uri": "https://localhost:8080/"
        },
        "id": "CmnhqTGDZnAa",
        "outputId": "6f783e44-15ef-432f-b3a0-198691c29fe8"
      },
      "execution_count": null,
      "outputs": [
        {
          "output_type": "stream",
          "name": "stderr",
          "text": [
            "\r[*********************100%***********************]  1 of 1 completed"
          ]
        },
        {
          "output_type": "stream",
          "name": "stdout",
          "text": [
            "<OrderEnforcing<StepAPICompatibility<PassiveEnvChecker<CustomStocksEnv<stocks-v0>>>>>\n"
          ]
        },
        {
          "output_type": "stream",
          "name": "stderr",
          "text": [
            "\n",
            "<ipython-input-23-380323df6903>:4: FutureWarning: DataFrame.fillna with 'method' is deprecated and will raise in a future version. Use obj.ffill() or obj.bfill() instead.\n",
            "  df = df.fillna(method='ffill')  # Handle missing values\n",
            "/usr/local/lib/python3.11/dist-packages/gym/envs/registration.py:542: UserWarning: \u001b[33mWARN: Overriding environment stocks-v0\u001b[0m\n",
            "  logger.warn(f\"Overriding environment {spec.id}\")\n",
            "/usr/local/lib/python3.11/dist-packages/gym/utils/passive_env_checker.py:31: UserWarning: \u001b[33mWARN: A Box observation space has an unconventional shape (neither an image, nor a 1D vector). We recommend flattening the observation to have only a 1D vector or use a custom policy to properly process the data. Actual observation shape: (10, 5)\u001b[0m\n",
            "  logger.warn(\n",
            "/usr/local/lib/python3.11/dist-packages/gym/core.py:317: DeprecationWarning: \u001b[33mWARN: Initializing wrapper in old step API which returns one bool instead of two. It is recommended to set `new_step_api=True` to use new step API. This will be the default behaviour in future.\u001b[0m\n",
            "  deprecation(\n",
            "/usr/local/lib/python3.11/dist-packages/gym/wrappers/step_api_compatibility.py:39: DeprecationWarning: \u001b[33mWARN: Initializing environment in old step API which returns one bool instead of two. It is recommended to set `new_step_api=True` to use new step API. This will be the default behaviour in future.\u001b[0m\n",
            "  deprecation(\n"
          ]
        }
      ]
    },
    {
      "cell_type": "code",
      "source": [
        "def plot_trading_results(df, actions, window_size):\n",
        "    \"\"\"\n",
        "    Visualizes stock prices and the actions taken by the agent.\n",
        "\n",
        "    :param df: DataFrame containing the stock prices.\n",
        "    :param actions: List of actions taken by the agent (buy, sell, hold).\n",
        "    :param window_size: The window size used in the trading environment.\n",
        "    \"\"\"\n",
        "    # Get the stock prices (we'll use 'Close' as the price to plot)\n",
        "    prices = df['Close'].values[window_size:]  # Skip the initial window_size entries\n",
        "\n",
        "    # Generate the action labels for the plot (buy=1, sell=-1, hold=0)\n",
        "    action_labels = ['Hold', 'Buy', 'Sell']\n",
        "    actions_map = {0: 'Hold', 1: 'Buy', 2: 'Sell'}\n",
        "\n",
        "    # Create an array to store actions taken at each time step\n",
        "    actions_taken = np.array(actions)\n",
        "\n",
        "    # Plot stock prices\n",
        "    plt.figure(figsize=(12, 6))\n",
        "    plt.plot(prices, label='Stock Prices', color='blue')\n",
        "\n",
        "    # Mark the points where actions were taken\n",
        "    buy_indices = np.where(actions_taken == 1)[0]\n",
        "    sell_indices = np.where(actions_taken == 2)[0]\n",
        "\n",
        "    plt.scatter(buy_indices, prices[buy_indices], marker='^', color='green', label='Buy Signal', alpha=1)\n",
        "    plt.scatter(sell_indices, prices[sell_indices], marker='v', color='red', label='Sell Signal', alpha=1)\n",
        "\n",
        "    plt.title('Stock Prices and Trading Actions')\n",
        "    plt.xlabel('Time Steps')\n",
        "    plt.ylabel('Stock Price')\n",
        "    plt.legend(loc='best')\n",
        "    plt.grid(True)\n",
        "    plt.show()"
      ],
      "metadata": {
        "id": "vDS_D8jYc49K"
      },
      "execution_count": null,
      "outputs": []
    },
    {
      "cell_type": "code",
      "source": [
        "def plot_profit_curve(profits):\n",
        "    \"\"\"\n",
        "    Plots the cumulative profit over time.\n",
        "\n",
        "    :param profits: List of cumulative profits at each time step.\n",
        "    \"\"\"\n",
        "    plt.figure(figsize=(12, 6))\n",
        "    plt.plot(profits, label='Cumulative Profit/Loss', color='purple')\n",
        "    plt.axhline(y=0, color='black', linestyle='--', linewidth=1)  # Baseline at zero profit\n",
        "    plt.title('Trading Agent Profit/Loss Over Time')\n",
        "    plt.xlabel('Time Steps')\n",
        "    plt.ylabel('Profit ($)')\n",
        "    plt.legend()\n",
        "    plt.grid(True)\n",
        "    plt.show()"
      ],
      "metadata": {
        "id": "Rm9Zr6Y1ePan"
      },
      "execution_count": null,
      "outputs": []
    },
    {
      "cell_type": "code",
      "source": [
        "model = PPO(ActorCriticPolicy, env, verbose=0)\n",
        "\n",
        "# Train the model\n",
        "model.learn(total_timesteps=10000)\n",
        "\n",
        "# Save the trained model\n",
        "model.save(\"ppo_stock_trading_model\")\n",
        "\n",
        "# Test the trained model\n",
        "initial_balance = 10_000  # Starting balance\n",
        "balance = initial_balance  # Current balance\n",
        "shares_held = 0  # Number of shares held\n",
        "profits = [0]  # Track profit/loss over time\n",
        "\n",
        "obs = env.reset()\n",
        "for _ in range(1000):\n",
        "    action, _state = model.predict(obs, deterministic=True)\n",
        "    obs, reward, done, info = env.step(action)\n",
        "\n",
        "    # Get current stock price\n",
        "    current_price = env.unwrapped._current_price()\n",
        "\n",
        "    # Update balance based on action\n",
        "    if action == 1:  # Buy\n",
        "        shares_held += 1\n",
        "        balance -= current_price\n",
        "    elif action == 2 and shares_held > 0:  # Sell\n",
        "        shares_held -= 1\n",
        "        balance += current_price\n",
        "\n",
        "    # Calculate current profit/loss\n",
        "    total_value = balance + (shares_held * current_price)\n",
        "    profit = total_value - initial_balance\n",
        "    profits.append(profit)\n",
        "\n",
        "    if done:\n",
        "        break\n",
        "\n",
        "# Plot the profit/loss curve\n",
        "# print(\"Profits\", profits)\n",
        "profits = np.array([float(p.values[0]) if isinstance(p, pd.Series) else float(p) for p in profits])\n",
        "\n",
        "plot_profit_curve(profits)\n",
        "\n",
        "# Close the environment\n",
        "env.close()"
      ],
      "metadata": {
        "colab": {
          "base_uri": "https://localhost:8080/",
          "height": 563
        },
        "id": "hJPSW4QMa3t9",
        "outputId": "6d0e8bb5-958e-4fb2-a844-7fabf7f31de4"
      },
      "execution_count": null,
      "outputs": [
        {
          "output_type": "display_data",
          "data": {
            "text/plain": [
              "<Figure size 1200x600 with 1 Axes>"
            ],
            "image/png": "[encoded data removed]"
          },
          "metadata": {}
        }
      ]
    }
  ]
}
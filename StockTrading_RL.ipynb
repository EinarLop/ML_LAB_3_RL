{
  "nbformat": 4,
  "nbformat_minor": 0,
  "metadata": {
    "colab": {
      "provenance": [],
      "authorship_tag": "ABX9TyOSfUUG8a6Ztyzl2jsVLV5S",
      "include_colab_link": true
    },
    "kernelspec": {
      "name": "python3",
      "display_name": "Python 3"
    },
    "language_info": {
      "name": "python"
    }
  },
  "cells": [
    {
      "cell_type": "markdown",
      "metadata": {
        "id": "view-in-github",
        "colab_type": "text"
      },
      "source": [
        "<a href=\"https://colab.research.google.com/github/EinarLop/ML_LAB_3_RL/blob/main/StockTrading_RL.ipynb\" target=\"_parent\"><img src=\"https://colab.research.google.com/assets/colab-badge.svg\" alt=\"Open In Colab\"/></a>"
      ]
    },
    {
      "cell_type": "code",
      "source": [],
      "metadata": {
        "id": "UaZ_0-yhpVT5"
      },
      "execution_count": null,
      "outputs": []
    },
    {
      "cell_type": "markdown",
      "source": [
        "## Introduction\n",
        "The goal of this project is to create and train a reinforcement learning agent to make stock trading decisions. The agent interacts with a custom stock trading environment built using OpenAI Gym, where the agent can take three possible actions: buy, sell, or hold. The environment is based on historical stock price data, with the agent observing a sliding window of past prices and using that information to predict the best trading action.\n",
        "\n",
        "In this project, we used the Proximal Policy Optimization (PPO) algorithm from the Stable-Baselines3 library to train the agent. The PPO algorithm is well-suited for environments with continuous and discrete actions, and it uses an actor-critic model to balance exploration and exploitation. The agent's performance is evaluated by tracking its cumulative profit and plotting the profit curve over time.\n",
        "\n",
        "We chose Apple Inc. (AAPL) stock data for this project, which spans from January 2010 to January 2022. The environment was designed to simulate the decision-making process of a trader, and the agent was trained to optimize its actions to maximize profit over time.\n",
        "\n"
      ],
      "metadata": {
        "id": "t-yp-MIypYKq"
      }
    },
    {
      "cell_type": "markdown",
      "source": [
        "## Next steps: Create Custom NN\n",
        "1. Define a Custom Neural Network (NN) Architecture:\n",
        "Create the custom NN class: Start by defining a new neural network that will be used to approximate the policy or value function. This could involve using fully connected layers (nn.Linear), or if you want to capture sequential dependencies, you could include recurrent layers like LSTM (nn.LSTM) or GRU (nn.GRU).\n",
        "Input Layer: The input layer should match the shape of your state space (e.g., stock price data, technical indicators). For a simple approach, this could be the window size (e.g., 10) and the number of features (e.g., 5: open, close, high, low, volume).\n",
        "Hidden Layers: Decide on the number of hidden layers and units per layer. Use activation functions like ReLU to introduce non-linearity.\n",
        "Output Layer: The output should match the number of actions (buy, hold, sell). For example, if you're using an actor-critic model, you would have an output for both the policy (actions) and the value function.\n",
        "2. Integrate the Custom NN with Stable-Baselines3:\n",
        "Custom Policy Class: To integrate your custom NN into Stable-Baselines3, subclass the ActorCriticPolicy class from Stable-Baselines3. In this subclass, you will need to specify the custom NN as the model for both the actor and the critic.\n",
        "Override Methods: Override the appropriate methods (__init__, forward, etc.) to use your custom NN for policy and value predictions.\n",
        "3. Training Setup:\n",
        "Modify Model Initialization: When initializing the PPO model (or whichever RL algorithm you're using), pass the custom policy class to the model. This will tell Stable-Baselines3 to use your custom NN instead of the default policy.\n",
        "Environment Setup: Ensure that the environment provides the correct observations (states) that match the input requirements of your custom NN.\n",
        "4. Tune the Neural Network:\n",
        "Hyperparameter Tuning: Experiment with different numbers of layers, units per layer, and activation functions. A custom NN might require tuning to ensure it works well for stock price prediction and trading.\n",
        "Optimizer and Learning Rate: Stable-Baselines3 allows you to specify custom optimizers, so experiment with different optimizers (e.g., Adam, SGD) and adjust the learning rate.\n",
        "Regularization: You may want to add dropout layers to prevent overfitting, especially since stock data can be noisy.\n",
        "5. Re-train the Model:\n",
        "Training the PPO Model: After integrating the custom NN, retrain the model by running the learn() method on the PPO model. Monitor how the performance evolves with the custom NN architecture.\n",
        "Performance Evaluation: Evaluate how well the model is performing by testing the agent in the environment, and adjust the model and learning parameters based on the results.\n",
        "6. Monitor and Visualize Results:\n",
        "Plot Profit/Loss Curve: As you did before, plot the cumulative profit/loss over time to see how well the agent performs with the new model.\n",
        "Action Visualizations: Continue visualizing trading actions (buy/sell) on the price chart to track whether the agent is making reasonable decisions.\n",
        "7. Iterate and Improve:\n",
        "Experiment with More Complex Architectures: If the performance is not as expected, consider more advanced architectures like LSTMs, GRUs, or attention-based models.\n",
        "Fine-tuning: Fine-tune the network architecture and hyperparameters based on the results you observe, adjusting based on how well the model generalizes to new data.\n",
        "\n"
      ],
      "metadata": {
        "id": "U60t41gcp8hC"
      }
    },
    {
      "cell_type": "code",
      "source": [],
      "metadata": {
        "id": "6pH4C_rLp8Bj"
      },
      "execution_count": null,
      "outputs": []
    },
    {
      "cell_type": "code",
      "execution_count": null,
      "metadata": {
        "colab": {
          "base_uri": "https://localhost:8080/"
        },
        "id": "SEL3IA72ZUMQ",
        "outputId": "dc3f04cb-5567-4758-edc6-39065e9ee14a"
      },
      "outputs": [
        {
          "output_type": "stream",
          "name": "stdout",
          "text": [
            "Requirement already satisfied: stable-baselines3 in /usr/local/lib/python3.11/dist-packages (2.6.0)\n",
            "Requirement already satisfied: gymnasium in /usr/local/lib/python3.11/dist-packages (1.1.1)\n",
            "Requirement already satisfied: gym-anytrading in /usr/local/lib/python3.11/dist-packages (2.0.0)\n",
            "Requirement already satisfied: yfinance in /usr/local/lib/python3.11/dist-packages (0.2.55)\n",
            "Collecting shimmy\n",
            "  Downloading Shimmy-2.0.0-py3-none-any.whl.metadata (3.5 kB)\n",
            "Requirement already satisfied: numpy<3.0,>=1.20 in /usr/local/lib/python3.11/dist-packages (from stable-baselines3) (2.0.2)\n",
            "Requirement already satisfied: torch<3.0,>=2.3 in /usr/local/lib/python3.11/dist-packages (from stable-baselines3) (2.6.0+cu124)\n",
            "Requirement already satisfied: cloudpickle in /usr/local/lib/python3.11/dist-packages (from stable-baselines3) (3.1.1)\n",
            "Requirement already satisfied: pandas in /usr/local/lib/python3.11/dist-packages (from stable-baselines3) (2.2.2)\n",
            "Requirement already satisfied: matplotlib in /usr/local/lib/python3.11/dist-packages (from stable-baselines3) (3.10.0)\n",
            "Requirement already satisfied: typing-extensions>=4.3.0 in /usr/local/lib/python3.11/dist-packages (from gymnasium) (4.13.0)\n",
            "Requirement already satisfied: farama-notifications>=0.0.1 in /usr/local/lib/python3.11/dist-packages (from gymnasium) (0.0.4)\n",
            "Requirement already satisfied: requests>=2.31 in /usr/local/lib/python3.11/dist-packages (from yfinance) (2.32.3)\n",
            "Requirement already satisfied: multitasking>=0.0.7 in /usr/local/lib/python3.11/dist-packages (from yfinance) (0.0.11)\n",
            "Requirement already satisfied: platformdirs>=2.0.0 in /usr/local/lib/python3.11/dist-packages (from yfinance) (4.3.7)\n",
            "Requirement already satisfied: pytz>=2022.5 in /usr/local/lib/python3.11/dist-packages (from yfinance) (2025.2)\n",
            "Requirement already satisfied: frozendict>=2.3.4 in /usr/local/lib/python3.11/dist-packages (from yfinance) (2.4.6)\n",
            "Requirement already satisfied: peewee>=3.16.2 in /usr/local/lib/python3.11/dist-packages (from yfinance) (3.17.9)\n",
            "Requirement already satisfied: beautifulsoup4>=4.11.1 in /usr/local/lib/python3.11/dist-packages (from yfinance) (4.13.3)\n",
            "Requirement already satisfied: soupsieve>1.2 in /usr/local/lib/python3.11/dist-packages (from beautifulsoup4>=4.11.1->yfinance) (2.6)\n",
            "Requirement already satisfied: contourpy>=1.0.1 in /usr/local/lib/python3.11/dist-packages (from matplotlib->stable-baselines3) (1.3.1)\n",
            "Requirement already satisfied: cycler>=0.10 in /usr/local/lib/python3.11/dist-packages (from matplotlib->stable-baselines3) (0.12.1)\n",
            "Requirement already satisfied: fonttools>=4.22.0 in /usr/local/lib/python3.11/dist-packages (from matplotlib->stable-baselines3) (4.56.0)\n",
            "Requirement already satisfied: kiwisolver>=1.3.1 in /usr/local/lib/python3.11/dist-packages (from matplotlib->stable-baselines3) (1.4.8)\n",
            "Requirement already satisfied: packaging>=20.0 in /usr/local/lib/python3.11/dist-packages (from matplotlib->stable-baselines3) (24.2)\n",
            "Requirement already satisfied: pillow>=8 in /usr/local/lib/python3.11/dist-packages (from matplotlib->stable-baselines3) (11.1.0)\n",
            "Requirement already satisfied: pyparsing>=2.3.1 in /usr/local/lib/python3.11/dist-packages (from matplotlib->stable-baselines3) (3.2.3)\n",
            "Requirement already satisfied: python-dateutil>=2.7 in /usr/local/lib/python3.11/dist-packages (from matplotlib->stable-baselines3) (2.8.2)\n",
            "Requirement already satisfied: tzdata>=2022.7 in /usr/local/lib/python3.11/dist-packages (from pandas->stable-baselines3) (2025.2)\n",
            "Requirement already satisfied: charset-normalizer<4,>=2 in /usr/local/lib/python3.11/dist-packages (from requests>=2.31->yfinance) (3.4.1)\n",
            "Requirement already satisfied: idna<4,>=2.5 in /usr/local/lib/python3.11/dist-packages (from requests>=2.31->yfinance) (3.10)\n",
            "Requirement already satisfied: urllib3<3,>=1.21.1 in /usr/local/lib/python3.11/dist-packages (from requests>=2.31->yfinance) (2.3.0)\n",
            "Requirement already satisfied: certifi>=2017.4.17 in /usr/local/lib/python3.11/dist-packages (from requests>=2.31->yfinance) (2025.1.31)\n",
            "Requirement already satisfied: filelock in /usr/local/lib/python3.11/dist-packages (from torch<3.0,>=2.3->stable-baselines3) (3.18.0)\n",
            "Requirement already satisfied: networkx in /usr/local/lib/python3.11/dist-packages (from torch<3.0,>=2.3->stable-baselines3) (3.4.2)\n",
            "Requirement already satisfied: jinja2 in /usr/local/lib/python3.11/dist-packages (from torch<3.0,>=2.3->stable-baselines3) (3.1.6)\n",
            "Requirement already satisfied: fsspec in /usr/local/lib/python3.11/dist-packages (from torch<3.0,>=2.3->stable-baselines3) (2025.3.0)\n",
            "Requirement already satisfied: nvidia-cuda-nvrtc-cu12==12.4.127 in /usr/local/lib/python3.11/dist-packages (from torch<3.0,>=2.3->stable-baselines3) (12.4.127)\n",
            "Requirement already satisfied: nvidia-cuda-runtime-cu12==12.4.127 in /usr/local/lib/python3.11/dist-packages (from torch<3.0,>=2.3->stable-baselines3) (12.4.127)\n",
            "Requirement already satisfied: nvidia-cuda-cupti-cu12==12.4.127 in /usr/local/lib/python3.11/dist-packages (from torch<3.0,>=2.3->stable-baselines3) (12.4.127)\n",
            "Requirement already satisfied: nvidia-cudnn-cu12==9.1.0.70 in /usr/local/lib/python3.11/dist-packages (from torch<3.0,>=2.3->stable-baselines3) (9.1.0.70)\n",
            "Requirement already satisfied: nvidia-cublas-cu12==12.4.5.8 in /usr/local/lib/python3.11/dist-packages (from torch<3.0,>=2.3->stable-baselines3) (12.4.5.8)\n",
            "Requirement already satisfied: nvidia-cufft-cu12==11.2.1.3 in /usr/local/lib/python3.11/dist-packages (from torch<3.0,>=2.3->stable-baselines3) (11.2.1.3)\n",
            "Requirement already satisfied: nvidia-curand-cu12==10.3.5.147 in /usr/local/lib/python3.11/dist-packages (from torch<3.0,>=2.3->stable-baselines3) (10.3.5.147)\n",
            "Requirement already satisfied: nvidia-cusolver-cu12==11.6.1.9 in /usr/local/lib/python3.11/dist-packages (from torch<3.0,>=2.3->stable-baselines3) (11.6.1.9)\n",
            "Requirement already satisfied: nvidia-cusparse-cu12==12.3.1.170 in /usr/local/lib/python3.11/dist-packages (from torch<3.0,>=2.3->stable-baselines3) (12.3.1.170)\n",
            "Requirement already satisfied: nvidia-cusparselt-cu12==0.6.2 in /usr/local/lib/python3.11/dist-packages (from torch<3.0,>=2.3->stable-baselines3) (0.6.2)\n",
            "Requirement already satisfied: nvidia-nccl-cu12==2.21.5 in /usr/local/lib/python3.11/dist-packages (from torch<3.0,>=2.3->stable-baselines3) (2.21.5)\n",
            "Requirement already satisfied: nvidia-nvtx-cu12==12.4.127 in /usr/local/lib/python3.11/dist-packages (from torch<3.0,>=2.3->stable-baselines3) (12.4.127)\n",
            "Requirement already satisfied: nvidia-nvjitlink-cu12==12.4.127 in /usr/local/lib/python3.11/dist-packages (from torch<3.0,>=2.3->stable-baselines3) (12.4.127)\n",
            "Requirement already satisfied: triton==3.2.0 in /usr/local/lib/python3.11/dist-packages (from torch<3.0,>=2.3->stable-baselines3) (3.2.0)\n",
            "Requirement already satisfied: sympy==1.13.1 in /usr/local/lib/python3.11/dist-packages (from torch<3.0,>=2.3->stable-baselines3) (1.13.1)\n",
            "Requirement already satisfied: mpmath<1.4,>=1.1.0 in /usr/local/lib/python3.11/dist-packages (from sympy==1.13.1->torch<3.0,>=2.3->stable-baselines3) (1.3.0)\n",
            "Requirement already satisfied: six>=1.5 in /usr/local/lib/python3.11/dist-packages (from python-dateutil>=2.7->matplotlib->stable-baselines3) (1.17.0)\n",
            "Requirement already satisfied: MarkupSafe>=2.0 in /usr/local/lib/python3.11/dist-packages (from jinja2->torch<3.0,>=2.3->stable-baselines3) (3.0.2)\n",
            "Downloading Shimmy-2.0.0-py3-none-any.whl (30 kB)\n",
            "Installing collected packages: shimmy\n",
            "Successfully installed shimmy-2.0.0\n"
          ]
        }
      ],
      "source": [
        "!pip install stable-baselines3 gymnasium gym-anytrading yfinance shimmy"
      ]
    },
    {
      "cell_type": "code",
      "source": [
        "import matplotlib.pyplot as plt\n",
        "import gym\n",
        "import gym_anytrading\n",
        "import yfinance as yf\n",
        "from gym import spaces\n",
        "import numpy as np\n",
        "import pandas as pd"
      ],
      "metadata": {
        "id": "TZGlE9kodG98"
      },
      "execution_count": null,
      "outputs": []
    },
    {
      "cell_type": "code",
      "source": [
        "import gym\n",
        "import numpy as np\n",
        "import pandas as pd\n",
        "import yfinance as yf\n",
        "from gym import spaces\n",
        "\n",
        "# Download stock data for Apple (AAPL)\n",
        "df = yf.download('AAPL', start='2010-01-01', end='2022-01-31')  # Fetch historical stock data\n",
        "df = df[['Open', 'High', 'Low', 'Close', 'Volume']]  # Select relevant features\n",
        "df = df.fillna(method='ffill')  # Fill missing values with the previous day's data\n",
        "\n",
        "# Define a custom stock trading environment using OpenAI Gym\n",
        "class CustomStocksEnv(gym.Env):\n",
        "    \"\"\"Custom reinforcement learning environment for stock trading.\"\"\"\n",
        "\n",
        "    def __init__(self, df, window_size=2, frame_bound=(10, 500)):\n",
        "        \"\"\"\n",
        "        Initialize the environment.\n",
        "\n",
        "        Args:\n",
        "            df (pd.DataFrame): Stock market data.\n",
        "            window_size (int): Number of past observations to include in the state.\n",
        "            frame_bound (tuple): Defines the starting and ending indices for training.\n",
        "        \"\"\"\n",
        "        super(CustomStocksEnv, self).__init__()\n",
        "        self.df = df\n",
        "        self.window_size = window_size\n",
        "        self.frame_bound = frame_bound\n",
        "\n",
        "        # Define the action space: 0 = Buy, 1 = Hold, 2 = Sell\n",
        "        self.action_space = spaces.Discrete(3)\n",
        "\n",
        "        # Define the observation space: Stock market data over the past `window_size` days\n",
        "        self.observation_space = spaces.Box(\n",
        "            low=0, high=np.inf, shape=(window_size, df.shape[1]), dtype=np.float32\n",
        "        )\n",
        "\n",
        "    def reset(self):\n",
        "        \"\"\"\n",
        "        Reset the environment to its initial state.\n",
        "\n",
        "        Returns:\n",
        "            np.ndarray: Initial observation.\n",
        "        \"\"\"\n",
        "        self.current_step = self.frame_bound[0]  # Start at the defined frame bound\n",
        "        self.done = False\n",
        "        return self.get_observation()\n",
        "\n",
        "    def get_observation(self):\n",
        "        \"\"\"\n",
        "        Get the current observation (state).\n",
        "\n",
        "        Returns:\n",
        "            np.ndarray: Stock market data for the last `window_size` days.\n",
        "        \"\"\"\n",
        "        return np.array(self.df.iloc[self.current_step - self.window_size:self.current_step].values)\n",
        "\n",
        "    def step(self, action):\n",
        "        \"\"\"\n",
        "        Take an action in the environment.\n",
        "\n",
        "        Args:\n",
        "            action (int): 0 = Buy, 1 = Hold, 2 = Sell.\n",
        "\n",
        "        Returns:\n",
        "            tuple: (observation, reward, done, info)\n",
        "        \"\"\"\n",
        "        self.current_step += 1\n",
        "        if self.current_step >= self.frame_bound[1]:\n",
        "            self.done = True  # Stop the episode if we reach the frame bound\n",
        "        else:\n",
        "            self.done = False\n",
        "\n",
        "        # Reward is currently a placeholder (to be improved later)\n",
        "        reward = 0\n",
        "        return self.get_observation(), reward, self.done, {}\n",
        "\n",
        "    def _current_price(self):\n",
        "        \"\"\"\n",
        "        Get the stock price at the current step.\n",
        "\n",
        "        Returns:\n",
        "            float: Closing price of the stock.\n",
        "        \"\"\"\n",
        "        return self.df.iloc[self.current_step][\"Close\"]\n",
        "\n",
        "# Register the custom environment in Gym\n",
        "gym.envs.registration.register(\n",
        "    id=\"stocks-v0\",\n",
        "    entry_point=\"__main__:CustomStocksEnv\",\n",
        "    kwargs={\"df\": df, \"window_size\": 10, \"frame_bound\": (10, 100)},\n",
        ")\n",
        "\n",
        "# Create the environment\n",
        "env = gym.make('stocks-v0')\n",
        "\n",
        "# Check environment info\n",
        "print(env)\n"
      ],
      "metadata": {
        "colab": {
          "base_uri": "https://localhost:8080/"
        },
        "id": "CmnhqTGDZnAa",
        "outputId": "e90c612a-1967-4893-94db-7d343ed2935f"
      },
      "execution_count": 49,
      "outputs": [
        {
          "output_type": "stream",
          "name": "stderr",
          "text": [
            "\r[*********************100%***********************]  1 of 1 completed"
          ]
        },
        {
          "output_type": "stream",
          "name": "stdout",
          "text": [
            "<OrderEnforcing<StepAPICompatibility<PassiveEnvChecker<CustomStocksEnv<stocks-v0>>>>>\n"
          ]
        },
        {
          "output_type": "stream",
          "name": "stderr",
          "text": [
            "\n",
            "<ipython-input-49-f84dfcfe99c9>:10: FutureWarning: DataFrame.fillna with 'method' is deprecated and will raise in a future version. Use obj.ffill() or obj.bfill() instead.\n",
            "  df = df.fillna(method='ffill')  # Fill missing values with the previous day's data\n",
            "/usr/local/lib/python3.11/dist-packages/gym/envs/registration.py:542: UserWarning: \u001b[33mWARN: Overriding environment stocks-v0\u001b[0m\n",
            "  logger.warn(f\"Overriding environment {spec.id}\")\n",
            "/usr/local/lib/python3.11/dist-packages/gym/utils/passive_env_checker.py:31: UserWarning: \u001b[33mWARN: A Box observation space has an unconventional shape (neither an image, nor a 1D vector). We recommend flattening the observation to have only a 1D vector or use a custom policy to properly process the data. Actual observation shape: (10, 5)\u001b[0m\n",
            "  logger.warn(\n",
            "/usr/local/lib/python3.11/dist-packages/gym/core.py:317: DeprecationWarning: \u001b[33mWARN: Initializing wrapper in old step API which returns one bool instead of two. It is recommended to set `new_step_api=True` to use new step API. This will be the default behaviour in future.\u001b[0m\n",
            "  deprecation(\n",
            "/usr/local/lib/python3.11/dist-packages/gym/wrappers/step_api_compatibility.py:39: DeprecationWarning: \u001b[33mWARN: Initializing environment in old step API which returns one bool instead of two. It is recommended to set `new_step_api=True` to use new step API. This will be the default behaviour in future.\u001b[0m\n",
            "  deprecation(\n"
          ]
        }
      ]
    },
    {
      "cell_type": "code",
      "source": [
        "import matplotlib.pyplot as plt\n",
        "\n",
        "def plot_profit_curve(profits):\n",
        "    \"\"\"\n",
        "    Plots the cumulative profit over time.\n",
        "\n",
        "    Args:\n",
        "        profits (list or np.array): Cumulative profit values at each time step.\n",
        "    \"\"\"\n",
        "    plt.figure(figsize=(12, 6))\n",
        "\n",
        "    # Plot cumulative profit/loss\n",
        "    plt.plot(profits, label='Cumulative Profit/Loss', color='purple', linewidth=1.5)\n",
        "\n",
        "    # Draw a horizontal line at zero profit for reference\n",
        "    plt.axhline(y=0, color='black', linestyle='--', linewidth=1, label='Break-even Line')\n",
        "\n",
        "    # Titles and labels\n",
        "    plt.title('Trading Agent Profit/Loss Over Time')\n",
        "    plt.xlabel('Time Steps')\n",
        "    plt.ylabel('Profit ($)')\n",
        "    plt.legend()\n",
        "    plt.grid(True)\n",
        "\n",
        "    # Show the plot\n",
        "    plt.show()\n"
      ],
      "metadata": {
        "id": "Rm9Zr6Y1ePan"
      },
      "execution_count": 50,
      "outputs": []
    },
    {
      "cell_type": "code",
      "source": [
        "from stable_baselines3 import PPO\n",
        "from stable_baselines3.common.policies import ActorCriticPolicy\n",
        "import numpy as np\n",
        "\n",
        "# Initialize PPO model\n",
        "model = PPO(ActorCriticPolicy, env, verbose=0)\n",
        "\n",
        "# Train the model for 1 timestep (for quick testing, should be increased)\n",
        "model.learn(total_timesteps=1000)\n",
        "\n",
        "# Save the trained model\n",
        "model.save(\"ppo_stock_trading_model\")\n",
        "\n",
        "# Define initial trading parameters\n",
        "initial_balance = 10_000  # Starting cash balance\n",
        "balance = initial_balance  # Current cash balance\n",
        "shares_held = 0  # Number of shares owned\n",
        "profits = [0]  # Track profit/loss over time\n",
        "\n",
        "# Reset the environment before testing\n",
        "obs = env.reset()\n",
        "\n",
        "# Simulate trading for up to 1000 steps\n",
        "for _ in range(1000):\n",
        "    action, _state = model.predict(obs, deterministic=True)  # Get action from trained model\n",
        "    obs, reward, done, info = env.step(action)  # Execute action in the environment\n",
        "\n",
        "    # Get the current stock price\n",
        "    current_price = env.unwrapped._current_price()\n",
        "\n",
        "    # Update balance based on action taken\n",
        "    if action == 1:  # Buy action\n",
        "        shares_held += 1\n",
        "        balance -= current_price\n",
        "    elif action == 2 and shares_held > 0:  # Sell action (only if shares are held)\n",
        "        shares_held -= 1\n",
        "        balance += current_price\n",
        "\n",
        "    # Compute total account value (cash + value of held stocks)\n",
        "    total_value = balance + (shares_held * current_price)\n",
        "\n",
        "    # Calculate profit/loss relative to initial balance\n",
        "    profit = total_value - initial_balance\n",
        "    profits.append(profit)\n",
        "\n",
        "    # End simulation if environment signals completion\n",
        "    if done:\n",
        "        break\n",
        "\n",
        "# Convert profits to a numeric array (handling potential Pandas Series values)\n",
        "profits = np.array([float(p.values[0]) if isinstance(p, pd.Series) else float(p) for p in profits])\n",
        "\n",
        "# Plot the profit/loss curve\n",
        "plot_profit_curve(profits)\n",
        "\n",
        "# Close the environment\n",
        "env.close()\n"
      ],
      "metadata": {
        "colab": {
          "base_uri": "https://localhost:8080/",
          "height": 563
        },
        "id": "hJPSW4QMa3t9",
        "outputId": "6e8d0f67-a602-4526-9939-74301c5335b8"
      },
      "execution_count": 52,
      "outputs": [
        {
          "output_type": "display_data",
          "data": {
            "text/plain": [
              "<Figure size 1200x600 with 1 Axes>"
            ],
            "image/png": "[encoded data removed]"
          },
          "metadata": {}
        }
      ]
    },
    {
      "cell_type": "code",
      "source": [],
      "metadata": {
        "id": "bZngfGzFpSGY"
      },
      "execution_count": null,
      "outputs": []
    }
  ]
}